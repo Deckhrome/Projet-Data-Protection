{
 "cells": [
  {
   "cell_type": "markdown",
   "metadata": {},
   "source": [
    "## Analyse network data"
   ]
  },
  {
   "cell_type": "code",
   "execution_count": 1,
   "metadata": {},
   "outputs": [],
   "source": [
    "import pandas as pd\n",
    "import numpy as np\n",
    "import matplotlib.pyplot as plt\n",
    "import zipfile\n",
    "import os"
   ]
  },
  {
   "cell_type": "code",
   "execution_count": 2,
   "metadata": {},
   "outputs": [],
   "source": [
    "# Open attack.csv\n",
    "\n",
    "df_attack = pd.read_csv('/home/johan/Desktop/PDSSC/Projet/data/dataset/Network datatset/csv/attack_3.csv', delimiter=',', header=0) \n",
    "# 5527409 rows attack_1\n",
    "# 5159469 rows attack_2"
   ]
  },
  {
   "cell_type": "code",
   "execution_count": 3,
   "metadata": {},
   "outputs": [
    {
     "data": {
      "text/plain": [
       "(5527409, 16)"
      ]
     },
     "execution_count": 3,
     "metadata": {},
     "output_type": "execute_result"
    }
   ],
   "source": [
    "df_attack.shape"
   ]
  },
  {
   "cell_type": "code",
   "execution_count": 4,
   "metadata": {},
   "outputs": [],
   "source": [
    "# Change the name of the columns by removing the spaces\n",
    "df_attack.columns = df_attack.columns.str.replace(' ', '')"
   ]
  },
  {
   "cell_type": "code",
   "execution_count": null,
   "metadata": {},
   "outputs": [],
   "source": [
    "# Open normal.csv \n",
    "\n",
    "df_normal = pd.read_csv('/home/johan/Desktop/PDSSC/Projet/data/dataset/Network datatset/csv/normal.csv', delimiter=',', header=0, nrows=5000000)"
   ]
  },
  {
   "cell_type": "code",
   "execution_count": 5,
   "metadata": {},
   "outputs": [],
   "source": [
    "# Remove duplicates from both dataframes\n",
    "\n",
    "df_attack1 = df_attack.drop_duplicates()\n",
    "# df_normal = df_normal.drop_duplicates()"
   ]
  },
  {
   "cell_type": "code",
   "execution_count": 6,
   "metadata": {},
   "outputs": [],
   "source": [
    "def get_columns_info(column_name):\n",
    "    print('Column name: ', column_name)\n",
    "    print('Number of unique values in attack: ', df_attack[column_name].nunique())\n",
    "    print('Number of missing values in attack: ', df_attack1[column_name].isnull().sum())\n",
    "    print('Number of values in attack: ', df_attack1[column_name].count())\n",
    "    print('Values in attack: ', df_attack1[column_name].unique())"
   ]
  },
  {
   "cell_type": "markdown",
   "metadata": {},
   "source": [
    "# Début Rapport d'analyse\n",
    "\n",
    "problème avec ces colonne : 'ip_s', 'ip_d', 'sport', 'dport', 'flags', 'n_pkt_src', 'n_pkt_dst', 'modbus_fn', 'modbus_response'\n",
    "raison : missing some values\n",
    "\n",
    "problème avec modbus_fn, lot of missing value (153121 for attack1), useless column ? Même chose avec modbus_response : Colonne lié au proto modbus et donc pas toute les colonne\n",
    "\n",
    "La colonne proto contient les protocoles ARP ICMP Modbus TCP pour attack mais seulement Modbus et TCP pour le cas normal\n",
    "\n",
    "Problème de typage : 'sport', 'dport', 'flags', 'n_pkt_src', 'n_pkt_dst'\n",
    "\n",
    "Certaine dates sont partagé pour plusieurs entrées (ex : 2021-04-09 18:42:46.997219 a 4 entrés)\n",
    "\n",
    "Le s dans ip_s, sport est pour source et le d pour destination\n",
    "\n",
    "Il y a des cas noté normaux dans les csv attack, besoin du csv normal ?\n",
    "\n",
    "different types d'attaques : \n",
    "\n",
    " - ['normal' 'anomaly' 'MITM' 'physical fault'] pour attack_1\n",
    " - \n",
    "\n"
   ]
  },
  {
   "cell_type": "code",
   "execution_count": 7,
   "metadata": {},
   "outputs": [
    {
     "name": "stdout",
     "output_type": "stream",
     "text": [
      "Column name:  label\n",
      "Number of unique values in attack:  4\n",
      "Number of missing values in attack:  0\n",
      "Number of values in attack:  5527407\n",
      "Values in attack:  ['normal' 'anomaly' 'MITM' 'physical fault']\n"
     ]
    }
   ],
   "source": [
    "get_columns_info('label')"
   ]
  },
  {
   "cell_type": "code",
   "execution_count": 9,
   "metadata": {},
   "outputs": [
    {
     "data": {
      "text/plain": [
       "Index(['Time', 'mac_s', 'mac_d', 'ip_s', 'ip_d', 'sport', 'dport', 'proto',\n",
       "       'flags', 'size', 'modbus_fn', 'n_pkt_src', 'n_pkt_dst',\n",
       "       'modbus_response', 'label_n', 'label'],\n",
       "      dtype='object')"
      ]
     },
     "execution_count": 9,
     "metadata": {},
     "output_type": "execute_result"
    }
   ],
   "source": [
    "df_attack.columns"
   ]
  },
  {
   "cell_type": "code",
   "execution_count": 8,
   "metadata": {},
   "outputs": [
    {
     "name": "stdout",
     "output_type": "stream",
     "text": [
      "Before removing NaN values:  (5527407, 16)\n",
      "After removing NaN values:  (5526894, 16)\n"
     ]
    }
   ],
   "source": [
    "# Remove NaN values from the column list\n",
    "\n",
    "print(\"Before removing NaN values: \", df_attack1.shape)\n",
    "column_NaN = ['mac_s', 'mac_d', 'ip_s', 'ip_d', 'sport', 'dport', 'flags', 'proto', 'size', 'n_pkt_src', 'n_pkt_dst','label']\n",
    "\n",
    "df_attack1 = df_attack1.dropna(subset=column_NaN)\n",
    "print(\"After removing NaN values: \", df_attack1.shape)"
   ]
  },
  {
   "cell_type": "code",
   "execution_count": 9,
   "metadata": {},
   "outputs": [],
   "source": [
    "# Convert the columns to the right type\n",
    "\n",
    "column_type = ['sport', 'dport', 'flags', 'n_pkt_src', 'n_pkt_dst']\n",
    "\n",
    "for column in column_type:\n",
    "    df_attack1[column] = df_attack1[column].astype('int64')\n",
    "\n",
    "# Remove brackets from the value of modbus_response and convert to int ignore NaN values\n",
    "\n",
    "df_attack1['modbus_response'] = df_attack1['modbus_response'].str.replace('[','').str.replace(']','').astype('float64')"
   ]
  },
  {
   "cell_type": "code",
   "execution_count": 10,
   "metadata": {},
   "outputs": [
    {
     "name": "stdout",
     "output_type": "stream",
     "text": [
      "2839667\n"
     ]
    }
   ],
   "source": [
    "print(df_attack1['modbus_response'].isna().sum())"
   ]
  },
  {
   "cell_type": "code",
   "execution_count": 11,
   "metadata": {},
   "outputs": [],
   "source": [
    "df_attack1['modbus_response'] = df_attack1['modbus_response'].fillna(-1) # -1 means that the value is missing\n",
    "df_attack1['modbus_response'] = df_attack1['modbus_response'].astype('int64')"
   ]
  },
  {
   "cell_type": "code",
   "execution_count": null,
   "metadata": {},
   "outputs": [],
   "source": [
    "# Remove the Time\n",
    "\n",
    "# df_attack1 = df_attack1.drop(['Time'], axis=1)"
   ]
  },
  {
   "cell_type": "code",
   "execution_count": 12,
   "metadata": {},
   "outputs": [],
   "source": [
    "# Save the cleaned dataframes\n",
    "\n",
    "df_attack1.to_csv('/home/johan/Desktop/PDSSC/Projet/data/dataset/Network datatset/clean_csv/attack_3_cleaned.csv', index=False)"
   ]
  },
  {
   "cell_type": "code",
   "execution_count": 23,
   "metadata": {},
   "outputs": [
    {
     "name": "stderr",
     "output_type": "stream",
     "text": [
      "/usr/lib/python3/dist-packages/scipy/__init__.py:146: UserWarning: A NumPy version >=1.17.3 and <1.25.0 is required for this version of SciPy (detected version 1.26.4\n",
      "  warnings.warn(f\"A NumPy version >={np_minversion} and <{np_maxversion}\"\n"
     ]
    }
   ],
   "source": [
    "# KNN algorithm\n",
    "\n",
    "from sklearn.neighbors import KNeighborsClassifier\n",
    "from sklearn.model_selection import train_test_split\n",
    "from sklearn.preprocessing import StandardScaler\n",
    "from sklearn.metrics import classification_report, confusion_matrix"
   ]
  },
  {
   "cell_type": "code",
   "execution_count": 3,
   "metadata": {},
   "outputs": [],
   "source": [
    "# Load the cleaned dataframes\n",
    "\n",
    "df_attack1 = pd.read_csv('/home/johan/Desktop/PDSSC/Projet/data/dataset/Network datatset/clean_csv/attack_1_cleaned.csv', delimiter=',', header=0)"
   ]
  },
  {
   "cell_type": "code",
   "execution_count": 9,
   "metadata": {},
   "outputs": [
    {
     "data": {
      "text/plain": [
       "modbus_fn\n",
       "Read Holding Registers Response    1430074\n",
       "Read Holding Registers             1429906\n",
       "Read Coils Request                 1257153\n",
       "Read Coils Response                1257153\n",
       "Name: count, dtype: int64"
      ]
     },
     "execution_count": 9,
     "metadata": {},
     "output_type": "execute_result"
    }
   ],
   "source": [
    "# train_test_split\n",
    "\n",
    "df_attack1['modbus_fn'].value_counts()"
   ]
  },
  {
   "cell_type": "code",
   "execution_count": 24,
   "metadata": {},
   "outputs": [
    {
     "data": {
      "text/plain": [
       "Index(['mac_s', 'mac_d', 'ip_s', 'ip_d', 'sport', 'dport', 'proto', 'flags',\n",
       "       'size', 'modbus_fn', 'n_pkt_src', 'n_pkt_dst', 'modbus_response',\n",
       "       'label_n', 'label'],\n",
       "      dtype='object')"
      ]
     },
     "execution_count": 24,
     "metadata": {},
     "output_type": "execute_result"
    }
   ],
   "source": [
    "df_attack1.columns"
   ]
  },
  {
   "cell_type": "code",
   "execution_count": 25,
   "metadata": {},
   "outputs": [],
   "source": [
    "def get_infos_col(col_name):\n",
    "    print('Number of unique values: ', df_attack1[col_name].nunique())\n",
    "    print('Number of missing values: ', df_attack1[col_name].isnull().sum())\n",
    "    print('Number of values: ', df_attack1[col_name].count())\n",
    "    print('Values: ', df_attack1[col_name].unique())"
   ]
  },
  {
   "cell_type": "code",
   "execution_count": 27,
   "metadata": {},
   "outputs": [
    {
     "data": {
      "text/plain": [
       "mac_s              object\n",
       "mac_d              object\n",
       "ip_s               object\n",
       "ip_d               object\n",
       "sport               int64\n",
       "dport               int64\n",
       "proto              object\n",
       "flags               int64\n",
       "size                int64\n",
       "modbus_fn          object\n",
       "n_pkt_src           int64\n",
       "n_pkt_dst           int64\n",
       "modbus_response     int64\n",
       "label_n             int64\n",
       "label              object\n",
       "dtype: object"
      ]
     },
     "execution_count": 27,
     "metadata": {},
     "output_type": "execute_result"
    }
   ],
   "source": [
    "df_attack1.dtypes"
   ]
  }
 ],
 "metadata": {
  "kernelspec": {
   "display_name": "Python 3",
   "language": "python",
   "name": "python3"
  },
  "language_info": {
   "codemirror_mode": {
    "name": "ipython",
    "version": 3
   },
   "file_extension": ".py",
   "mimetype": "text/x-python",
   "name": "python",
   "nbconvert_exporter": "python",
   "pygments_lexer": "ipython3",
   "version": "3.10.12"
  }
 },
 "nbformat": 4,
 "nbformat_minor": 2
}
