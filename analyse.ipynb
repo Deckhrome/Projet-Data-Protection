{
 "cells": [
  {
   "cell_type": "markdown",
   "metadata": {},
   "source": [
    "## Analyse network data"
   ]
  },
  {
   "cell_type": "code",
   "execution_count": 2,
   "metadata": {},
   "outputs": [],
   "source": [
    "import pandas as pd\n",
    "import numpy as np\n",
    "import matplotlib.pyplot as plt\n",
    "import zipfile\n",
    "import os"
   ]
  },
  {
   "cell_type": "code",
   "execution_count": 3,
   "metadata": {},
   "outputs": [],
   "source": [
    "# Make sure data is downloaded\n",
    "\n",
    "if not os.path.exists('data'):\n",
    "    os.makedirs('data')"
   ]
  },
  {
   "cell_type": "code",
   "execution_count": 2,
   "metadata": {},
   "outputs": [],
   "source": [
    "# Open attack.csv\n",
    "\n",
    "df_attack = pd.read_csv('data/dataset/Network datatset/csv/attack_4.csv', delimiter=',', header=0) \n",
    "# 5527409 rows attack_1\n",
    "# 5159469 rows attack_2\n",
    "# 5862547 rows attack_3\n",
    "# 5131109 rows attack_4"
   ]
  },
  {
   "cell_type": "code",
   "execution_count": 9,
   "metadata": {},
   "outputs": [
    {
     "data": {
      "text/plain": [
       "(5131109, 16)"
      ]
     },
     "execution_count": 9,
     "metadata": {},
     "output_type": "execute_result"
    }
   ],
   "source": [
    "df_attack.shape"
   ]
  },
  {
   "cell_type": "code",
   "execution_count": 10,
   "metadata": {},
   "outputs": [],
   "source": [
    "# Change the name of the columns by removing the spaces\n",
    "df_attack.columns = df_attack.columns.str.replace(' ', '')"
   ]
  },
  {
   "cell_type": "code",
   "execution_count": null,
   "metadata": {},
   "outputs": [],
   "source": [
    "# Open normal.csv \n",
    "\n",
    "df_normal = pd.read_csv('data/dataset/Network datatset/csv/normal.csv', delimiter=',', header=0, nrows=5000000)"
   ]
  },
  {
   "cell_type": "code",
   "execution_count": 11,
   "metadata": {},
   "outputs": [],
   "source": [
    "# Remove duplicates from both dataframes\n",
    "\n",
    "df_attack = df_attack.drop_duplicates()\n",
    "# df_normal = df_normal.drop_duplicates()"
   ]
  },
  {
   "cell_type": "code",
   "execution_count": 11,
   "metadata": {},
   "outputs": [],
   "source": [
    "def get_columns_info(column_name):\n",
    "    print('Column name: ', column_name)\n",
    "    print('Number of unique values in attack: ', df_attack[column_name].nunique())\n",
    "    print('Number of missing values in attack: ', df_attack[column_name].isnull().sum())\n",
    "    print('Number of values in attack: ', df_attack[column_name].count())\n",
    "    print('Values in attack: ', df_attack[column_name].unique())\n",
    "    print('Values count: ', df_attack[column_name].value_counts())"
   ]
  },
  {
   "cell_type": "markdown",
   "metadata": {},
   "source": [
    "# Début Rapport d'analyse\n",
    "\n",
    "problème avec ces colonne : 'ip_s', 'ip_d', 'sport', 'dport', 'flags', 'n_pkt_src', 'n_pkt_dst', 'modbus_fn', 'modbus_response'\n",
    "raison : missing some values\n",
    "\n",
    "problème avec modbus_fn, lot of missing value (153121 for attack1), useless column ? Même chose avec modbus_response : Colonne lié au proto modbus et donc pas toute les colonne\n",
    "\n",
    "La colonne proto contient les protocoles ARP ICMP Modbus TCP pour attack mais seulement Modbus et TCP pour le cas normal\n",
    "\n",
    "Problème de typage : 'sport', 'dport', 'flags', 'n_pkt_src', 'n_pkt_dst'\n",
    "\n",
    "Certaine dates sont partagé pour plusieurs entrées (ex : 2021-04-09 18:42:46.997219 a 4 entrés)\n",
    "\n",
    "Le s dans ip_s, sport est pour source et le d pour destination\n",
    "\n",
    "Il y a des cas noté normaux dans les csv attack, besoin du csv normal ?\n",
    "\n",
    "different types d'attaques : \n",
    "\n",
    " - ['normal' 'anomaly' 'MITM' 'physical fault'] pour attack_1\n",
    " - ['normal' 'physical fault' 'anomaly' 'DoS' 'MITM'] pour attack_3\n",
    " - ['normal' 'scan' 'DoS' 'physical fault' 'MITM'] pour attack_4 et attack_2\n"
   ]
  },
  {
   "cell_type": "code",
   "execution_count": 12,
   "metadata": {},
   "outputs": [
    {
     "name": "stdout",
     "output_type": "stream",
     "text": [
      "Column name:  label\n",
      "Number of unique values in attack:  5\n",
      "Number of missing values in attack:  0\n",
      "Number of values in attack:  4774086\n",
      "Values in attack:  ['normal' 'scan' 'DoS' 'physical fault' 'MITM']\n",
      "Values count:  label\n",
      "normal            4093168\n",
      "physical fault     277282\n",
      "MITM               216955\n",
      "DoS                186651\n",
      "scan                   30\n",
      "Name: count, dtype: int64\n"
     ]
    }
   ],
   "source": [
    "get_columns_info('label')"
   ]
  },
  {
   "cell_type": "code",
   "execution_count": 11,
   "metadata": {},
   "outputs": [
    {
     "data": {
      "text/plain": [
       "Index(['Time', 'mac_s', 'mac_d', 'ip_s', 'ip_d', 'sport', 'dport', 'proto',\n",
       "       'flags', 'size', 'modbus_fn', 'n_pkt_src', 'n_pkt_dst',\n",
       "       'modbus_response', 'label_n', 'label'],\n",
       "      dtype='object')"
      ]
     },
     "execution_count": 11,
     "metadata": {},
     "output_type": "execute_result"
    }
   ],
   "source": [
    "df_attack.columns"
   ]
  },
  {
   "cell_type": "code",
   "execution_count": 14,
   "metadata": {},
   "outputs": [
    {
     "name": "stdout",
     "output_type": "stream",
     "text": [
      "Before removing NaN values:  (5131109, 16)\n",
      "After removing NaN values:  (4350185, 16)\n"
     ]
    }
   ],
   "source": [
    "# Remove NaN values from the column list\n",
    "\n",
    "print(\"Before removing NaN values: \", df_attack.shape)\n",
    "column_NaN = ['mac_s', 'mac_d', 'ip_s', 'ip_d', 'sport', 'dport', 'flags', 'proto', 'size', 'n_pkt_src', 'n_pkt_dst','label']\n",
    "\n",
    "df_attack = df_attack.dropna(subset=column_NaN)\n",
    "print(\"After removing NaN values: \", df_attack.shape)"
   ]
  },
  {
   "cell_type": "code",
   "execution_count": 15,
   "metadata": {},
   "outputs": [],
   "source": [
    "# Convert the columns to the right type\n",
    "\n",
    "column_type = ['sport', 'dport', 'flags', 'n_pkt_src', 'n_pkt_dst']\n",
    "\n",
    "for column in column_type:\n",
    "    df_attack[column] = df_attack[column].astype('int64')\n",
    "\n",
    "# Remove brackets from the value of modbus_response and convert to int ignore NaN values\n",
    "\n",
    "df_attack['modbus_response'] = df_attack['modbus_response'].str.replace('[','').str.replace(']','').astype('float64')"
   ]
  },
  {
   "cell_type": "code",
   "execution_count": 26,
   "metadata": {},
   "outputs": [
    {
     "name": "stdout",
     "output_type": "stream",
     "text": [
      "1436332\n"
     ]
    }
   ],
   "source": [
    "print(df_attack['modbus_response'].isna().sum())"
   ]
  },
  {
   "cell_type": "code",
   "execution_count": 16,
   "metadata": {},
   "outputs": [],
   "source": [
    "df_attack['modbus_response'] = df_attack['modbus_response'].fillna(-1) # -1 means that the value is missing\n",
    "df_attack['modbus_response'] = df_attack['modbus_response'].astype('int64')"
   ]
  },
  {
   "cell_type": "code",
   "execution_count": 17,
   "metadata": {},
   "outputs": [
    {
     "data": {
      "text/plain": [
       "Time               object\n",
       "mac_s              object\n",
       "mac_d              object\n",
       "ip_s               object\n",
       "ip_d               object\n",
       "sport               int64\n",
       "dport               int64\n",
       "proto              object\n",
       "flags               int64\n",
       "size                int64\n",
       "modbus_fn          object\n",
       "modbus_response     int64\n",
       "n_pkt_src           int64\n",
       "n_pkt_dst           int64\n",
       "label_n             int64\n",
       "label              object\n",
       "dtype: object"
      ]
     },
     "execution_count": 17,
     "metadata": {},
     "output_type": "execute_result"
    }
   ],
   "source": [
    "df_attack.dtypes"
   ]
  },
  {
   "cell_type": "code",
   "execution_count": null,
   "metadata": {},
   "outputs": [],
   "source": [
    "# Remove the Time\n",
    "\n",
    "# df_attack = df_attack.drop(['Time'], axis=1)"
   ]
  },
  {
   "cell_type": "code",
   "execution_count": 18,
   "metadata": {},
   "outputs": [],
   "source": [
    "# Save the cleaned dataframes\n",
    "\n",
    "df_attack.to_csv('data/dataset/Network datatset/clean_csv/attack_4_cleaned.csv', index=False)"
   ]
  },
  {
   "cell_type": "code",
   "execution_count": 23,
   "metadata": {},
   "outputs": [
    {
     "name": "stderr",
     "output_type": "stream",
     "text": [
      "/usr/lib/python3/dist-packages/scipy/__init__.py:146: UserWarning: A NumPy version >=1.17.3 and <1.25.0 is required for this version of SciPy (detected version 1.26.4\n",
      "  warnings.warn(f\"A NumPy version >={np_minversion} and <{np_maxversion}\"\n"
     ]
    }
   ],
   "source": [
    "# KNN algorithm\n",
    "\n",
    "from sklearn.neighbors import KNeighborsClassifier\n",
    "from sklearn.model_selection import train_test_split\n",
    "from sklearn.preprocessing import StandardScaler\n",
    "from sklearn.metrics import classification_report, confusion_matrix"
   ]
  },
  {
   "cell_type": "code",
   "execution_count": 4,
   "metadata": {},
   "outputs": [],
   "source": [
    "# Load the cleaned dataframes\n",
    "\n",
    "df_attack = pd.read_csv('data/dataset/Network datatset/clean_csv/attack_2_cleaned.csv', delimiter=',', header=0)"
   ]
  },
  {
   "cell_type": "code",
   "execution_count": 8,
   "metadata": {},
   "outputs": [
    {
     "data": {
      "text/plain": [
       "(4774086, 16)"
      ]
     },
     "execution_count": 8,
     "metadata": {},
     "output_type": "execute_result"
    }
   ],
   "source": [
    "df_attack.shape"
   ]
  },
  {
   "cell_type": "code",
   "execution_count": 9,
   "metadata": {},
   "outputs": [
    {
     "data": {
      "text/plain": [
       "modbus_fn\n",
       "Read Holding Registers Response    1430074\n",
       "Read Holding Registers             1429906\n",
       "Read Coils Request                 1257153\n",
       "Read Coils Response                1257153\n",
       "Name: count, dtype: int64"
      ]
     },
     "execution_count": 9,
     "metadata": {},
     "output_type": "execute_result"
    }
   ],
   "source": [
    "# train_test_split\n",
    "\n",
    "df_attack['modbus_fn'].value_counts()"
   ]
  },
  {
   "cell_type": "code",
   "execution_count": 24,
   "metadata": {},
   "outputs": [
    {
     "data": {
      "text/plain": [
       "Index(['mac_s', 'mac_d', 'ip_s', 'ip_d', 'sport', 'dport', 'proto', 'flags',\n",
       "       'size', 'modbus_fn', 'n_pkt_src', 'n_pkt_dst', 'modbus_response',\n",
       "       'label_n', 'label'],\n",
       "      dtype='object')"
      ]
     },
     "execution_count": 24,
     "metadata": {},
     "output_type": "execute_result"
    }
   ],
   "source": [
    "df_attack.columns"
   ]
  },
  {
   "cell_type": "code",
   "execution_count": 25,
   "metadata": {},
   "outputs": [],
   "source": [
    "def get_infos_col(col_name):\n",
    "    print('Number of unique values: ', df_attack[col_name].nunique())\n",
    "    print('Number of missing values: ', df_attack[col_name].isnull().sum())\n",
    "    print('Number of values: ', df_attack[col_name].count())\n",
    "    print('Values: ', df_attack[col_name].unique())"
   ]
  },
  {
   "cell_type": "code",
   "execution_count": 13,
   "metadata": {},
   "outputs": [
    {
     "data": {
      "text/plain": [
       "<bound method DataFrame.info of                                Time              mac_s              mac_d  \\\n",
       "0        2021-04-19 15:37:19.989214  00:80:f4:03:fb:12  74:46:a0:bd:a7:1b   \n",
       "1        2021-04-19 15:37:19.990641  74:46:a0:bd:a7:1b  e6:3f:ac:c9:a8:8c   \n",
       "2        2021-04-19 15:37:19.990645  74:46:a0:bd:a7:1b  0a:fe:ec:47:74:fb   \n",
       "3        2021-04-19 15:37:19.990647  74:46:a0:bd:a7:1b  fa:00:bc:90:d7:fa   \n",
       "4        2021-04-19 15:37:19.990943  e6:3f:ac:c9:a8:8c  74:46:a0:bd:a7:1b   \n",
       "...                             ...                ...                ...   \n",
       "4774081  2021-04-19 16:12:14.165046  0a:fe:ec:47:74:fb  74:46:a0:bd:a7:1b   \n",
       "4774082  2021-04-19 16:12:14.165050  e6:3f:ac:c9:a8:8c  74:46:a0:bd:a7:1b   \n",
       "4774083  2021-04-19 16:12:14.166361  00:0c:29:47:8c:22  00:80:f4:03:fb:12   \n",
       "4774084  2021-04-19 16:12:14.167706  74:46:a0:bd:a7:1b  0a:fe:ec:47:74:fb   \n",
       "4774085  2021-04-19 16:12:14.167723  74:46:a0:bd:a7:1b  e6:3f:ac:c9:a8:8c   \n",
       "\n",
       "                 ip_s          ip_d  sport  dport   proto  flags  size  \\\n",
       "0         84.3.251.18   84.3.251.20    502  61315  Modbus  11000    64   \n",
       "1         84.3.251.20  84.3.251.101  61316    502  Modbus  11000    66   \n",
       "2         84.3.251.20  84.3.251.102  61318    502  Modbus  11000    66   \n",
       "3         84.3.251.20  84.3.251.103  61317    502  Modbus  11000    66   \n",
       "4        84.3.251.101   84.3.251.20    502  61316  Modbus  11000    65   \n",
       "...               ...           ...    ...    ...     ...    ...   ...   \n",
       "4774081  84.3.251.102   84.3.251.20    502  61318  Modbus  11000    65   \n",
       "4774082  84.3.251.101   84.3.251.20    502  61316  Modbus  11000    65   \n",
       "4774083  84.3.251.101   84.3.251.18   8986    502     TCP     10    60   \n",
       "4774084   84.3.251.20  84.3.251.102  61318    502  Modbus  11000    66   \n",
       "4774085   84.3.251.20  84.3.251.101  61316    502  Modbus  11000    66   \n",
       "\n",
       "                               modbus_fn  n_pkt_src  n_pkt_dst  \\\n",
       "0                    Read Coils Response          0          0   \n",
       "1                 Read Holding Registers          0          0   \n",
       "2                 Read Holding Registers          1          0   \n",
       "3                     Read Coils Request          2          0   \n",
       "4        Read Holding Registers Response          0          1   \n",
       "...                                  ...        ...        ...   \n",
       "4774081  Read Holding Registers Response         13         44   \n",
       "4774082  Read Holding Registers Response         22         45   \n",
       "4774083                              NaN         23         13   \n",
       "4774084               Read Coils Request         43         13   \n",
       "4774085           Read Holding Registers         44         14   \n",
       "\n",
       "         modbus_response  label_n   label  \n",
       "0                      0        0  normal  \n",
       "1                     -1        0  normal  \n",
       "2                     -1        0  normal  \n",
       "3                     -1        0  normal  \n",
       "4                      0        0  normal  \n",
       "...                  ...      ...     ...  \n",
       "4774081                0        1     DoS  \n",
       "4774082              254        1     DoS  \n",
       "4774083               -1        1     DoS  \n",
       "4774084               -1        0  normal  \n",
       "4774085               -1        0  normal  \n",
       "\n",
       "[4774086 rows x 16 columns]>"
      ]
     },
     "execution_count": 13,
     "metadata": {},
     "output_type": "execute_result"
    }
   ],
   "source": [
    "df_attack.info"
   ]
  }
 ],
 "metadata": {
  "kernelspec": {
   "display_name": "Python 3",
   "language": "python",
   "name": "python3"
  },
  "language_info": {
   "codemirror_mode": {
    "name": "ipython",
    "version": 3
   },
   "file_extension": ".py",
   "mimetype": "text/x-python",
   "name": "python",
   "nbconvert_exporter": "python",
   "pygments_lexer": "ipython3",
   "version": "3.10.12"
  }
 },
 "nbformat": 4,
 "nbformat_minor": 2
}
