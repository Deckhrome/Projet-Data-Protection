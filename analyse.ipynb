{
 "cells": [
  {
   "cell_type": "markdown",
   "metadata": {},
   "source": [
    "## Analyse network data"
   ]
  },
  {
   "cell_type": "code",
   "execution_count": 1,
   "metadata": {},
   "outputs": [],
   "source": [
    "import pandas as pd\n",
    "import numpy as np\n",
    "import matplotlib.pyplot as plt\n",
    "import zipfile\n",
    "import os\n",
    "\n",
    "rows_limit = 5527409"
   ]
  },
  {
   "cell_type": "code",
   "execution_count": 40,
   "metadata": {},
   "outputs": [],
   "source": [
    "# Open attack_1.csv\n",
    "\n",
    "df_attack1 = pd.read_csv('/home/johan/Desktop/PDSSC/Projet/data/dataset/Network datatset/csv/attack_1.csv', delimiter=',', header=0, nrows=rows_limit) # 5527409 entries"
   ]
  },
  {
   "cell_type": "code",
   "execution_count": 41,
   "metadata": {},
   "outputs": [],
   "source": [
    "# Change the name of the columns by removing the spaces\n",
    "df_attack1.columns = df_attack1.columns.str.replace(' ', '')"
   ]
  },
  {
   "cell_type": "code",
   "execution_count": 43,
   "metadata": {},
   "outputs": [],
   "source": [
    "# Open normal.csv \n",
    "\n",
    "df_normal = pd.read_csv('/home/johan/Desktop/PDSSC/Projet/data/dataset/Network datatset/csv/normal.csv', delimiter=',', header=0, nrows=rows_limit)"
   ]
  },
  {
   "cell_type": "code",
   "execution_count": 44,
   "metadata": {},
   "outputs": [],
   "source": [
    "# Remove duplicates from both dataframes\n",
    "\n",
    "df_attack1 = df_attack1.drop_duplicates()\n",
    "df_normal = df_normal.drop_duplicates()"
   ]
  },
  {
   "cell_type": "code",
   "execution_count": 45,
   "metadata": {},
   "outputs": [],
   "source": [
    "def get_columns_info(column_name):\n",
    "    print('Column name: ', column_name)\n",
    "    print('Number of unique values in attack_1: ', df_attack1[column_name].nunique())\n",
    "    print('Number of unique values in normal: ', df_normal[column_name].nunique())\n",
    "    print('Number of missing values in attack_1: ', df_attack1[column_name].isnull().sum())\n",
    "    print('Number of missing values in normal: ', df_normal[column_name].isnull().sum())\n",
    "    print('Number of values in attack_1: ', df_attack1[column_name].count())\n",
    "    print('Number of values in normal: ', df_normal[column_name].count())\n",
    "    print('Values in attack_1: ', df_attack1[column_name].unique())\n",
    "    print('Values in normal: ', df_normal[column_name].unique())"
   ]
  },
  {
   "cell_type": "markdown",
   "metadata": {},
   "source": [
    "# Début Rapport d'analyse\n",
    "\n",
    "problème avec ces colonne : 'ip_s', 'ip_d', 'sport', 'dport', 'flags', 'n_pkt_src', 'n_pkt_dst', 'modbus_fn', 'modbus_response'\n",
    "raison : missing some values\n",
    "\n",
    "problème avec modbus_fn, lot of missing value (153121 for attack1), useless column ? Même chose avec modbus_response : Colonne lié au proto modbus et donc pas toute les colonne\n",
    "\n",
    "La colonne proto contient les protocoles ARP ICMP Modbus TCP pour attack mais seulement Modbus et TCP pour le cas normal\n",
    "\n",
    "Problème de typage : 'sport', 'dport', 'flags', 'n_pkt_src', 'n_pkt_dst'\n",
    "\n",
    "Certaine dates sont partagé pour plusieurs entrées (ex : 2021-04-09 18:42:46.997219 a 4 entrés)\n",
    "\n",
    "Il y a des cas noté normaux dans les csv attack, besoin du csv normal ?\n"
   ]
  },
  {
   "cell_type": "code",
   "execution_count": 46,
   "metadata": {},
   "outputs": [
    {
     "data": {
      "text/plain": [
       "Index(['Time', 'mac_s', 'mac_d', 'ip_s', 'ip_d', 'sport', 'dport', 'proto',\n",
       "       'flags', 'size', 'modbus_fn', 'n_pkt_src', 'n_pkt_dst',\n",
       "       'modbus_response', 'label_n', 'label'],\n",
       "      dtype='object')"
      ]
     },
     "execution_count": 46,
     "metadata": {},
     "output_type": "execute_result"
    }
   ],
   "source": [
    "df_attack1.columns"
   ]
  },
  {
   "cell_type": "code",
   "execution_count": 80,
   "metadata": {},
   "outputs": [
    {
     "name": "stdout",
     "output_type": "stream",
     "text": [
      "Column name:  Time\n",
      "Number of unique values in attack_1:  5241591\n",
      "Number of unique values in normal:  5082414\n",
      "Number of missing values in attack_1:  0\n",
      "Number of missing values in normal:  0\n",
      "Number of values in attack_1:  5526894\n",
      "Number of values in normal:  5527409\n",
      "Values in attack_1:  ['2021-04-09 18:23:28.385003' '2021-04-09 18:23:28.385005'\n",
      " '2021-04-09 18:23:28.385006' ... '2021-04-09 19:03:47.661288'\n",
      " '2021-04-09 19:03:47.661290' '2021-04-09 19:03:47.661291']\n",
      "Values in normal:  ['2021-04-09 11:30:52.716203' '2021-04-09 11:30:52.716499'\n",
      " '2021-04-09 11:30:52.717334' ... '2021-04-09 12:11:32.090901'\n",
      " '2021-04-09 12:11:32.091494' '2021-04-09 12:11:32.091824']\n"
     ]
    }
   ],
   "source": [
    "get_columns_info('Time')"
   ]
  },
  {
   "cell_type": "code",
   "execution_count": 76,
   "metadata": {},
   "outputs": [],
   "source": [
    "# Remove NaN values from the column list\n",
    "\n",
    "column_NaN = ['mac_s', 'mac_d', 'ip_s', 'ip_d', 'sport', 'dport', 'flags', 'proto', 'size', 'n_pkt_src', 'n_pkt_dst','label']\n",
    "\n",
    "df_attack1 = df_attack1.dropna(subset=column_NaN)"
   ]
  },
  {
   "cell_type": "code",
   "execution_count": 77,
   "metadata": {},
   "outputs": [],
   "source": [
    "# Convert the columns to the right type\n",
    "\n",
    "column_type = ['sport', 'dport', 'flags', 'n_pkt_src', 'n_pkt_dst']\n",
    "\n",
    "for column in column_type:\n",
    "    df_attack1[column] = df_attack1[column].astype('int64')"
   ]
  },
  {
   "cell_type": "code",
   "execution_count": 87,
   "metadata": {},
   "outputs": [],
   "source": [
    "# Save the cleaned dataframes\n",
    "\n",
    "df_attack1.to_csv('/home/johan/Desktop/PDSSC/Projet/data/dataset/Network datatset/clean_csv/attack_1_cleaned.csv', index=False)"
   ]
  },
  {
   "cell_type": "code",
   "execution_count": 88,
   "metadata": {},
   "outputs": [
    {
     "name": "stderr",
     "output_type": "stream",
     "text": [
      "/usr/lib/python3/dist-packages/scipy/__init__.py:146: UserWarning: A NumPy version >=1.17.3 and <1.25.0 is required for this version of SciPy (detected version 1.26.4\n",
      "  warnings.warn(f\"A NumPy version >={np_minversion} and <{np_maxversion}\"\n"
     ]
    }
   ],
   "source": [
    "# KNN algorithm\n",
    "\n",
    "from sklearn.neighbors import KNeighborsClassifier\n",
    "from sklearn.model_selection import train_test_split\n",
    "from sklearn.preprocessing import StandardScaler\n",
    "from sklearn.metrics import classification_report, confusion_matrix"
   ]
  },
  {
   "cell_type": "code",
   "execution_count": 2,
   "metadata": {},
   "outputs": [],
   "source": [
    "# Load the cleaned dataframes\n",
    "\n",
    "df_attack1 = pd.read_csv('/home/johan/Desktop/PDSSC/Projet/data/dataset/Network datatset/clean_csv/attack_1_cleaned.csv', delimiter=',', header=0)"
   ]
  },
  {
   "cell_type": "code",
   "execution_count": null,
   "metadata": {},
   "outputs": [],
   "source": [
    "# train_test_split\n",
    "\n",
    "X = df_attack1[['sport', 'dport', 'flags', 'n_pkt_src', 'n_pkt_dst']]"
   ]
  }
 ],
 "metadata": {
  "kernelspec": {
   "display_name": "Python 3",
   "language": "python",
   "name": "python3"
  },
  "language_info": {
   "codemirror_mode": {
    "name": "ipython",
    "version": 3
   },
   "file_extension": ".py",
   "mimetype": "text/x-python",
   "name": "python",
   "nbconvert_exporter": "python",
   "pygments_lexer": "ipython3",
   "version": "3.10.12"
  }
 },
 "nbformat": 4,
 "nbformat_minor": 2
}
